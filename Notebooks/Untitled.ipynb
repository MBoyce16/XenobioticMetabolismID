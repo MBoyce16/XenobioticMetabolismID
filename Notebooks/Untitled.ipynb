{
 "cells": [
  {
   "cell_type": "markdown",
   "metadata": {},
   "source": [
    "## Analysis of total metabolites"
   ]
  },
  {
   "cell_type": "code",
   "execution_count": 289,
   "metadata": {},
   "outputs": [],
   "source": [
    "import pandas as pd\n",
    "import os\n",
    "import rdkit.Chem as Chem\n",
    "from rdkit.Chem import rdMolDescriptors\n",
    "from rdkit.Chem import Descriptors\n",
    "\n",
    "import venn\n",
    "import seaborn as sns\n",
    "import matplotlib.pyplot as plt"
   ]
  },
  {
   "cell_type": "markdown",
   "metadata": {},
   "source": [
    "#### Master list of metabolites used for this study"
   ]
  },
  {
   "cell_type": "code",
   "execution_count": null,
   "metadata": {},
   "outputs": [],
   "source": [
    "master_paper = pd.read_csv(r')"
   ]
  },
  {
   "cell_type": "markdown",
   "metadata": {},
   "source": [
    "#### Predictions Summary"
   ]
  },
  {
   "cell_type": "code",
   "execution_count": 267,
   "metadata": {},
   "outputs": [
    {
     "data": {
      "text/html": [
       "<div>\n",
       "<style scoped>\n",
       "    .dataframe tbody tr th:only-of-type {\n",
       "        vertical-align: middle;\n",
       "    }\n",
       "\n",
       "    .dataframe tbody tr th {\n",
       "        vertical-align: top;\n",
       "    }\n",
       "\n",
       "    .dataframe thead th {\n",
       "        text-align: right;\n",
       "    }\n",
       "</style>\n",
       "<table border=\"1\" class=\"dataframe\">\n",
       "  <thead>\n",
       "    <tr style=\"text-align: right;\">\n",
       "      <th></th>\n",
       "      <th>BioTransformer</th>\n",
       "      <th>Meteor</th>\n",
       "      <th>ToolBox</th>\n",
       "      <th>TIMES</th>\n",
       "      <th>Reported</th>\n",
       "    </tr>\n",
       "    <tr>\n",
       "      <th>Parent_DTXSID</th>\n",
       "      <th></th>\n",
       "      <th></th>\n",
       "      <th></th>\n",
       "      <th></th>\n",
       "      <th></th>\n",
       "    </tr>\n",
       "  </thead>\n",
       "  <tbody>\n",
       "    <tr>\n",
       "      <th>DTXSID0020151</th>\n",
       "      <td>15</td>\n",
       "      <td>5</td>\n",
       "      <td>4</td>\n",
       "      <td>4</td>\n",
       "      <td>9</td>\n",
       "    </tr>\n",
       "    <tr>\n",
       "      <th>DTXSID0020529</th>\n",
       "      <td>9</td>\n",
       "      <td>16</td>\n",
       "      <td>16</td>\n",
       "      <td>0</td>\n",
       "      <td>5</td>\n",
       "    </tr>\n",
       "    <tr>\n",
       "      <th>DTXSID0020575</th>\n",
       "      <td>11</td>\n",
       "      <td>16</td>\n",
       "      <td>11</td>\n",
       "      <td>10</td>\n",
       "      <td>8</td>\n",
       "    </tr>\n",
       "    <tr>\n",
       "      <th>DTXSID0022777</th>\n",
       "      <td>18</td>\n",
       "      <td>3</td>\n",
       "      <td>11</td>\n",
       "      <td>8</td>\n",
       "      <td>4</td>\n",
       "    </tr>\n",
       "    <tr>\n",
       "      <th>DTXSID0044151</th>\n",
       "      <td>9</td>\n",
       "      <td>4</td>\n",
       "      <td>4</td>\n",
       "      <td>0</td>\n",
       "      <td>2</td>\n",
       "    </tr>\n",
       "    <tr>\n",
       "      <th>DTXSID1020069</th>\n",
       "      <td>60</td>\n",
       "      <td>12</td>\n",
       "      <td>8</td>\n",
       "      <td>1</td>\n",
       "      <td>7</td>\n",
       "    </tr>\n",
       "    <tr>\n",
       "      <th>DTXSID1025726</th>\n",
       "      <td>14</td>\n",
       "      <td>4</td>\n",
       "      <td>5</td>\n",
       "      <td>0</td>\n",
       "      <td>8</td>\n",
       "    </tr>\n",
       "    <tr>\n",
       "      <th>DTXSID2026781</th>\n",
       "      <td>2</td>\n",
       "      <td>7</td>\n",
       "      <td>5</td>\n",
       "      <td>3</td>\n",
       "      <td>3</td>\n",
       "    </tr>\n",
       "    <tr>\n",
       "      <th>DTXSID3020205</th>\n",
       "      <td>82</td>\n",
       "      <td>21</td>\n",
       "      <td>15</td>\n",
       "      <td>10</td>\n",
       "      <td>11</td>\n",
       "    </tr>\n",
       "    <tr>\n",
       "      <th>DTXSID4020371</th>\n",
       "      <td>16</td>\n",
       "      <td>6</td>\n",
       "      <td>1</td>\n",
       "      <td>5</td>\n",
       "      <td>8</td>\n",
       "    </tr>\n",
       "    <tr>\n",
       "      <th>DTXSID4020373</th>\n",
       "      <td>29</td>\n",
       "      <td>4</td>\n",
       "      <td>24</td>\n",
       "      <td>9</td>\n",
       "      <td>11</td>\n",
       "    </tr>\n",
       "    <tr>\n",
       "      <th>DTXSID4020375</th>\n",
       "      <td>18</td>\n",
       "      <td>2</td>\n",
       "      <td>15</td>\n",
       "      <td>6</td>\n",
       "      <td>14</td>\n",
       "    </tr>\n",
       "    <tr>\n",
       "      <th>DTXSID4023624</th>\n",
       "      <td>50</td>\n",
       "      <td>8</td>\n",
       "      <td>20</td>\n",
       "      <td>5</td>\n",
       "      <td>6</td>\n",
       "    </tr>\n",
       "    <tr>\n",
       "      <th>DTXSID4025791</th>\n",
       "      <td>14</td>\n",
       "      <td>7</td>\n",
       "      <td>11</td>\n",
       "      <td>0</td>\n",
       "      <td>0</td>\n",
       "    </tr>\n",
       "    <tr>\n",
       "      <th>DTXSID4034150</th>\n",
       "      <td>132</td>\n",
       "      <td>19</td>\n",
       "      <td>8</td>\n",
       "      <td>7</td>\n",
       "      <td>8</td>\n",
       "    </tr>\n",
       "    <tr>\n",
       "      <th>DTXSID5020027</th>\n",
       "      <td>1</td>\n",
       "      <td>6</td>\n",
       "      <td>3</td>\n",
       "      <td>1</td>\n",
       "      <td>10</td>\n",
       "    </tr>\n",
       "    <tr>\n",
       "      <th>DTXSID5020152</th>\n",
       "      <td>22</td>\n",
       "      <td>4</td>\n",
       "      <td>2</td>\n",
       "      <td>5</td>\n",
       "      <td>4</td>\n",
       "    </tr>\n",
       "    <tr>\n",
       "      <th>DTXSID5020528</th>\n",
       "      <td>8</td>\n",
       "      <td>10</td>\n",
       "      <td>9</td>\n",
       "      <td>0</td>\n",
       "      <td>5</td>\n",
       "    </tr>\n",
       "    <tr>\n",
       "      <th>DTXSID5021889</th>\n",
       "      <td>0</td>\n",
       "      <td>5</td>\n",
       "      <td>6</td>\n",
       "      <td>2</td>\n",
       "      <td>2</td>\n",
       "    </tr>\n",
       "    <tr>\n",
       "      <th>DTXSID5023792</th>\n",
       "      <td>11</td>\n",
       "      <td>8</td>\n",
       "      <td>10</td>\n",
       "      <td>0</td>\n",
       "      <td>4</td>\n",
       "    </tr>\n",
       "    <tr>\n",
       "      <th>DTXSID5025607</th>\n",
       "      <td>15</td>\n",
       "      <td>26</td>\n",
       "      <td>15</td>\n",
       "      <td>10</td>\n",
       "      <td>12</td>\n",
       "    </tr>\n",
       "    <tr>\n",
       "      <th>DTXSID6020143</th>\n",
       "      <td>13</td>\n",
       "      <td>2</td>\n",
       "      <td>0</td>\n",
       "      <td>1</td>\n",
       "      <td>2</td>\n",
       "    </tr>\n",
       "    <tr>\n",
       "      <th>DTXSID6022345</th>\n",
       "      <td>46</td>\n",
       "      <td>4</td>\n",
       "      <td>19</td>\n",
       "      <td>6</td>\n",
       "      <td>14</td>\n",
       "    </tr>\n",
       "    <tr>\n",
       "      <th>DTXSID6025725</th>\n",
       "      <td>18</td>\n",
       "      <td>7</td>\n",
       "      <td>5</td>\n",
       "      <td>0</td>\n",
       "      <td>7</td>\n",
       "    </tr>\n",
       "    <tr>\n",
       "      <th>DTXSID7020182</th>\n",
       "      <td>8</td>\n",
       "      <td>2</td>\n",
       "      <td>2</td>\n",
       "      <td>2</td>\n",
       "      <td>4</td>\n",
       "    </tr>\n",
       "    <tr>\n",
       "      <th>DTXSID7020685</th>\n",
       "      <td>2</td>\n",
       "      <td>2</td>\n",
       "      <td>8</td>\n",
       "      <td>1</td>\n",
       "      <td>15</td>\n",
       "    </tr>\n",
       "    <tr>\n",
       "      <th>DTXSID7020762</th>\n",
       "      <td>0</td>\n",
       "      <td>11</td>\n",
       "      <td>7</td>\n",
       "      <td>1</td>\n",
       "      <td>2</td>\n",
       "    </tr>\n",
       "    <tr>\n",
       "      <th>DTXSID8020913</th>\n",
       "      <td>25</td>\n",
       "      <td>10</td>\n",
       "      <td>7</td>\n",
       "      <td>4</td>\n",
       "      <td>12</td>\n",
       "    </tr>\n",
       "    <tr>\n",
       "      <th>DTXSID8020961</th>\n",
       "      <td>14</td>\n",
       "      <td>7</td>\n",
       "      <td>3</td>\n",
       "      <td>0</td>\n",
       "      <td>6</td>\n",
       "    </tr>\n",
       "    <tr>\n",
       "      <th>DTXSID8021482</th>\n",
       "      <td>0</td>\n",
       "      <td>32</td>\n",
       "      <td>7</td>\n",
       "      <td>1</td>\n",
       "      <td>4</td>\n",
       "    </tr>\n",
       "    <tr>\n",
       "      <th>DTXSID8031077</th>\n",
       "      <td>20</td>\n",
       "      <td>17</td>\n",
       "      <td>11</td>\n",
       "      <td>6</td>\n",
       "      <td>13</td>\n",
       "    </tr>\n",
       "    <tr>\n",
       "      <th>DTXSID9020374</th>\n",
       "      <td>14</td>\n",
       "      <td>2</td>\n",
       "      <td>5</td>\n",
       "      <td>3</td>\n",
       "      <td>0</td>\n",
       "    </tr>\n",
       "    <tr>\n",
       "      <th>DTXSID9020376</th>\n",
       "      <td>0</td>\n",
       "      <td>382</td>\n",
       "      <td>6</td>\n",
       "      <td>1</td>\n",
       "      <td>24</td>\n",
       "    </tr>\n",
       "    <tr>\n",
       "      <th>DTXSID9020453</th>\n",
       "      <td>3</td>\n",
       "      <td>1</td>\n",
       "      <td>1</td>\n",
       "      <td>3</td>\n",
       "      <td>6</td>\n",
       "    </tr>\n",
       "    <tr>\n",
       "      <th>DTXSID9020827</th>\n",
       "      <td>9</td>\n",
       "      <td>7</td>\n",
       "      <td>11</td>\n",
       "      <td>7</td>\n",
       "      <td>0</td>\n",
       "    </tr>\n",
       "    <tr>\n",
       "      <th>DTXSID9023752</th>\n",
       "      <td>35</td>\n",
       "      <td>12</td>\n",
       "      <td>9</td>\n",
       "      <td>3</td>\n",
       "      <td>2</td>\n",
       "    </tr>\n",
       "    <tr>\n",
       "      <th>DTXSID9047251</th>\n",
       "      <td>84</td>\n",
       "      <td>23</td>\n",
       "      <td>12</td>\n",
       "      <td>7</td>\n",
       "      <td>16</td>\n",
       "    </tr>\n",
       "  </tbody>\n",
       "</table>\n",
       "</div>"
      ],
      "text/plain": [
       "               BioTransformer  Meteor  ToolBox  TIMES  Reported\n",
       "Parent_DTXSID                                                  \n",
       "DTXSID0020151              15       5        4      4         9\n",
       "DTXSID0020529               9      16       16      0         5\n",
       "DTXSID0020575              11      16       11     10         8\n",
       "DTXSID0022777              18       3       11      8         4\n",
       "DTXSID0044151               9       4        4      0         2\n",
       "DTXSID1020069              60      12        8      1         7\n",
       "DTXSID1025726              14       4        5      0         8\n",
       "DTXSID2026781               2       7        5      3         3\n",
       "DTXSID3020205              82      21       15     10        11\n",
       "DTXSID4020371              16       6        1      5         8\n",
       "DTXSID4020373              29       4       24      9        11\n",
       "DTXSID4020375              18       2       15      6        14\n",
       "DTXSID4023624              50       8       20      5         6\n",
       "DTXSID4025791              14       7       11      0         0\n",
       "DTXSID4034150             132      19        8      7         8\n",
       "DTXSID5020027               1       6        3      1        10\n",
       "DTXSID5020152              22       4        2      5         4\n",
       "DTXSID5020528               8      10        9      0         5\n",
       "DTXSID5021889               0       5        6      2         2\n",
       "DTXSID5023792              11       8       10      0         4\n",
       "DTXSID5025607              15      26       15     10        12\n",
       "DTXSID6020143              13       2        0      1         2\n",
       "DTXSID6022345              46       4       19      6        14\n",
       "DTXSID6025725              18       7        5      0         7\n",
       "DTXSID7020182               8       2        2      2         4\n",
       "DTXSID7020685               2       2        8      1        15\n",
       "DTXSID7020762               0      11        7      1         2\n",
       "DTXSID8020913              25      10        7      4        12\n",
       "DTXSID8020961              14       7        3      0         6\n",
       "DTXSID8021482               0      32        7      1         4\n",
       "DTXSID8031077              20      17       11      6        13\n",
       "DTXSID9020374              14       2        5      3         0\n",
       "DTXSID9020376               0     382        6      1        24\n",
       "DTXSID9020453               3       1        1      3         6\n",
       "DTXSID9020827               9       7       11      7         0\n",
       "DTXSID9023752              35      12        9      3         2\n",
       "DTXSID9047251              84      23       12      7        16"
      ]
     },
     "execution_count": 267,
     "metadata": {},
     "output_type": "execute_result"
    }
   ],
   "source": [
    "prediction_count = master_paper[['Parent_DTXSID','BioTransformer','Meteor','ToolBox','TIMES','Reported']].groupby(by = 'Parent_DTXSID').sum()\n",
    "prediction_count"
   ]
  },
  {
   "cell_type": "code",
   "execution_count": 58,
   "metadata": {},
   "outputs": [
    {
     "data": {
      "text/plain": [
       "1668"
      ]
     },
     "execution_count": 58,
     "metadata": {},
     "output_type": "execute_result"
    }
   ],
   "source": [
    "sum(master_paper[['BioTransformer','Meteor','ToolBox','TIMES']].sum(axis = 1)>0)"
   ]
  },
  {
   "cell_type": "code",
   "execution_count": null,
   "metadata": {},
   "outputs": [],
   "source": []
  },
  {
   "cell_type": "code",
   "execution_count": 59,
   "metadata": {},
   "outputs": [
    {
     "data": {
      "text/plain": [
       "BioTransformer    827\n",
       "Meteor            714\n",
       "ToolBox           316\n",
       "TIMES             132\n",
       "dtype: int64"
      ]
     },
     "execution_count": 59,
     "metadata": {},
     "output_type": "execute_result"
    }
   ],
   "source": [
    "master_paper[['BioTransformer','Meteor','ToolBox','TIMES']].sum()"
   ]
  },
  {
   "cell_type": "code",
   "execution_count": 303,
   "metadata": {},
   "outputs": [
    {
     "data": {
      "text/plain": [
       "BioTransformer    14.0\n",
       "Meteor             7.0\n",
       "ToolBox            8.0\n",
       "TIMES              3.0\n",
       "Reported           6.0\n",
       "dtype: float64"
      ]
     },
     "execution_count": 303,
     "metadata": {},
     "output_type": "execute_result"
    }
   ],
   "source": [
    "master_paper[['Parent_DTXSID','BioTransformer','Meteor','ToolBox','TIMES','Reported']].groupby(by = 'Parent_DTXSID').sum().median()"
   ]
  },
  {
   "cell_type": "code",
   "execution_count": 304,
   "metadata": {},
   "outputs": [
    {
     "data": {
      "text/plain": [
       "BioTransformer    22.351351\n",
       "Meteor            19.297297\n",
       "ToolBox            8.540541\n",
       "TIMES              3.567568\n",
       "Reported           7.243243\n",
       "dtype: float64"
      ]
     },
     "execution_count": 304,
     "metadata": {},
     "output_type": "execute_result"
    }
   ],
   "source": [
    "master_paper[['Parent_DTXSID','BioTransformer','Meteor','ToolBox','TIMES','Reported']].groupby(by = 'Parent_DTXSID').sum().mean()"
   ]
  },
  {
   "cell_type": "code",
   "execution_count": 274,
   "metadata": {},
   "outputs": [
    {
     "data": {
      "text/plain": [
       "Index(['DTXSID0020151', 'DTXSID0020529', 'DTXSID0020575', 'DTXSID0022777',\n",
       "       'DTXSID0044151', 'DTXSID1020069', 'DTXSID1025726', 'DTXSID2026781',\n",
       "       'DTXSID3020205', 'DTXSID4020371', 'DTXSID4020373', 'DTXSID4020375',\n",
       "       'DTXSID4023624', 'DTXSID4025791', 'DTXSID4034150', 'DTXSID5020027',\n",
       "       'DTXSID5020152', 'DTXSID5020528', 'DTXSID5021889', 'DTXSID5023792',\n",
       "       'DTXSID5025607', 'DTXSID6020143', 'DTXSID6022345', 'DTXSID6025725',\n",
       "       'DTXSID7020182', 'DTXSID7020685', 'DTXSID7020762', 'DTXSID8020913',\n",
       "       'DTXSID8020961', 'DTXSID8021482', 'DTXSID8031077', 'DTXSID9020374',\n",
       "       'DTXSID9020376', 'DTXSID9020453', 'DTXSID9020827', 'DTXSID9023752',\n",
       "       'DTXSID9047251'],\n",
       "      dtype='object', name='Parent_DTXSID')"
      ]
     },
     "execution_count": 274,
     "metadata": {},
     "output_type": "execute_result"
    }
   ],
   "source": [
    "prediction_count.index"
   ]
  },
  {
   "cell_type": "code",
   "execution_count": 300,
   "metadata": {},
   "outputs": [
    {
     "data": {
      "image/png": "[encoded data removed]",
      "text/plain": [
       "<Figure size 475.2x216 with 1 Axes>"
      ]
     },
     "metadata": {
      "needs_background": "light"
     },
     "output_type": "display_data"
    }
   ],
   "source": [
    "## Bar plot of the number of predictions for each parent\n",
    "fig = prediction_count.plot.bar(figsize = (6.6, 3)).get_figure()\n",
    "plt.ylabel('Number of predictions')\n",
    "plt.xlabel('Parent DTXSID')\n",
    "fig.savefig(r'C:\\Users\\MBOYCE\\OneDrive - Environmental Protection Agency (EPA)\\Profile\\Documents\\Prediction_bar.tiff', dpi = 300, bbox_inches = \"tight\")"
   ]
  },
  {
   "cell_type": "code",
   "execution_count": 239,
   "metadata": {},
   "outputs": [],
   "source": [
    "bt_venn = set([row['SMILES'] for idx, row in master_paper.iterrows() if row['BioTransformer'] > 0])\n",
    "meteor_venn = set([row['SMILES'] for idx, row in master_paper.iterrows() if row['Meteor'] > 0])\n",
    "times_venn = set([row['SMILES'] for idx, row in master_paper.iterrows() if row['TIMES'] > 0])\n",
    "tb_venn = set([row['SMILES'] for idx, row in master_paper.iterrows() if row['ToolBox'] > 0])\n",
    "lit_venn = set([row['SMILES'] for idx, row in master_paper.iterrows() if row['Reported'] > 0])"
   ]
  },
  {
   "cell_type": "code",
   "execution_count": 240,
   "metadata": {},
   "outputs": [],
   "source": [
    "labels = venn.get_labels([bt_venn,meteor_venn,times_venn,tb_venn])##, fill=['number'])"
   ]
  },
  {
   "cell_type": "code",
   "execution_count": 241,
   "metadata": {},
   "outputs": [
    {
     "name": "stdout",
     "output_type": "stream",
     "text": [
      "{'0001': '126 ', '0010': '21 ', '0011': '28 ', '0100': '540 ', '0101': '42 ', '0110': '7 ', '0111': '24 ', '1000': '721 ', '1001': '19 ', '1010': '2 ', '1011': '9 ', '1100': '35 ', '1101': '14 ', '1110': '5 ', '1111': '21 '}\n"
     ]
    }
   ],
   "source": [
    "print(labels)"
   ]
  },
  {
   "cell_type": "code",
   "execution_count": 302,
   "metadata": {},
   "outputs": [
    {
     "name": "stderr",
     "output_type": "stream",
     "text": [
      "C:\\Users\\MBOYCE\\Anaconda3\\envs\\my-RAX-env\\lib\\site-packages\\ipykernel_launcher.py:2: MatplotlibDeprecationWarning: savefig() got unexpected keyword argument \"transpernt\" which is no longer supported as of 3.3 and will become an error two minor releases later\n",
      "  \n",
      "C:\\Users\\MBOYCE\\Anaconda3\\envs\\my-RAX-env\\lib\\site-packages\\ipykernel_launcher.py:3: UserWarning: Matplotlib is currently using module://ipykernel.pylab.backend_inline, which is a non-GUI backend, so cannot show the figure.\n",
      "  This is separate from the ipykernel package so we can avoid doing imports until\n"
     ]
    },
    {
     "data": {
      "image/png": "[encoded data removed]",
      "text/plain": [
       "<Figure size 648x648 with 1 Axes>"
      ]
     },
     "metadata": {},
     "output_type": "display_data"
    }
   ],
   "source": [
    "fig, ax = venn.venn4(labels, names=['BioTransformer', 'Meteor', 'TIMES', 'Toolbox'])\n",
    "fig.savefig(r'C:\\Users\\MBOYCE\\OneDrive - Environmental Protection Agency (EPA)\\Profile\\Documents\\predicted_ven.tiff', dpi=300,  bbox_inches = \"tight\", transpernt = True)\n",
    "fig.show()\n"
   ]
  },
  {
   "cell_type": "markdown",
   "metadata": {},
   "source": [
    "#### Literature Summary"
   ]
  },
  {
   "cell_type": "code",
   "execution_count": 95,
   "metadata": {},
   "outputs": [
    {
     "data": {
      "text/plain": [
       "[9, 225, 234]"
      ]
     },
     "execution_count": 95,
     "metadata": {},
     "output_type": "execute_result"
    }
   ],
   "source": [
    "##Sum of num markush parents and non-markush predictions\n",
    "reported_mark_par = [row['Metabolite_DTXSID'] for idx, row in master_paper.iterrows() if row['Markush'] == True]\n",
    "reported_nonmark = [row['Metabolite_DTXSID'] for idx, row in master_paper.iterrows() if row['Markush'] == False and row['Reported'] > 0]\n",
    "\n",
    "##Total predictions:\n",
    "[len(set(reported_mark_par)), len(reported_nonmark), len(set(reported_mark_par)) + len(reported_nonmark)]"
   ]
  },
  {
   "cell_type": "code",
   "execution_count": 97,
   "metadata": {},
   "outputs": [
    {
     "data": {
      "text/plain": [
       "43"
      ]
     },
     "execution_count": 97,
     "metadata": {},
     "output_type": "execute_result"
    }
   ],
   "source": [
    "##Number of markush metabolites\n",
    "len(reported_mark_par)"
   ]
  },
  {
   "cell_type": "code",
   "execution_count": 99,
   "metadata": {},
   "outputs": [
    {
     "data": {
      "text/html": [
       "<div>\n",
       "<style scoped>\n",
       "    .dataframe tbody tr th:only-of-type {\n",
       "        vertical-align: middle;\n",
       "    }\n",
       "\n",
       "    .dataframe tbody tr th {\n",
       "        vertical-align: top;\n",
       "    }\n",
       "\n",
       "    .dataframe thead th {\n",
       "        text-align: right;\n",
       "    }\n",
       "</style>\n",
       "<table border=\"1\" class=\"dataframe\">\n",
       "  <thead>\n",
       "    <tr style=\"text-align: right;\">\n",
       "      <th></th>\n",
       "      <th>Parent_DTXSID</th>\n",
       "      <th>Metabolite_DTXSID</th>\n",
       "      <th>SMILES</th>\n",
       "      <th>Formula</th>\n",
       "      <th>MW</th>\n",
       "      <th>Markush</th>\n",
       "      <th>DDA_Included</th>\n",
       "      <th>BioTransformer</th>\n",
       "      <th>Meteor</th>\n",
       "      <th>ToolBox</th>\n",
       "      <th>TIMES</th>\n",
       "      <th>Reported</th>\n",
       "    </tr>\n",
       "  </thead>\n",
       "  <tbody>\n",
       "    <tr>\n",
       "      <th>0</th>\n",
       "      <td>DTXSID0044151</td>\n",
       "      <td>DTXSID6059362</td>\n",
       "      <td>Nc1cc(N)cc(N)c1</td>\n",
       "      <td>C6H9N3</td>\n",
       "      <td>123.079647</td>\n",
       "      <td>False</td>\n",
       "      <td>True</td>\n",
       "      <td>0</td>\n",
       "      <td>1</td>\n",
       "      <td>1</td>\n",
       "      <td>0</td>\n",
       "      <td>1</td>\n",
       "    </tr>\n",
       "    <tr>\n",
       "      <th>1</th>\n",
       "      <td>DTXSID0044151</td>\n",
       "      <td>DTXSID7063687</td>\n",
       "      <td>Nc1cc(N)cc([N+](=O)[O-])c1</td>\n",
       "      <td>C6H7N3O2</td>\n",
       "      <td>153.053826</td>\n",
       "      <td>False</td>\n",
       "      <td>True</td>\n",
       "      <td>0</td>\n",
       "      <td>1</td>\n",
       "      <td>1</td>\n",
       "      <td>0</td>\n",
       "      <td>1</td>\n",
       "    </tr>\n",
       "    <tr>\n",
       "      <th>6</th>\n",
       "      <td>DTXSID6025725</td>\n",
       "      <td>DTXSID4021137</td>\n",
       "      <td>Nc1cccc(N)c1</td>\n",
       "      <td>C6H8N2</td>\n",
       "      <td>108.068748</td>\n",
       "      <td>False</td>\n",
       "      <td>True</td>\n",
       "      <td>0</td>\n",
       "      <td>1</td>\n",
       "      <td>1</td>\n",
       "      <td>0</td>\n",
       "      <td>1</td>\n",
       "    </tr>\n",
       "    <tr>\n",
       "      <th>18</th>\n",
       "      <td>DTXSID8031077</td>\n",
       "      <td>DTXSID30865801</td>\n",
       "      <td>COc1cc(CCC(=O)CC(=O)CCc2ccc(O)c(OC)c2)ccc1O</td>\n",
       "      <td>C21H24O6</td>\n",
       "      <td>372.157288</td>\n",
       "      <td>False</td>\n",
       "      <td>True</td>\n",
       "      <td>0</td>\n",
       "      <td>0</td>\n",
       "      <td>1</td>\n",
       "      <td>0</td>\n",
       "      <td>1</td>\n",
       "    </tr>\n",
       "    <tr>\n",
       "      <th>20</th>\n",
       "      <td>DTXSID1025726</td>\n",
       "      <td>DTXSID70209063</td>\n",
       "      <td>NC1=C([N+](=O)[O-])C=CC=C1O</td>\n",
       "      <td>C6H6N2O3</td>\n",
       "      <td>154.037842</td>\n",
       "      <td>False</td>\n",
       "      <td>True</td>\n",
       "      <td>1</td>\n",
       "      <td>0</td>\n",
       "      <td>1</td>\n",
       "      <td>0</td>\n",
       "      <td>1</td>\n",
       "    </tr>\n",
       "    <tr>\n",
       "      <th>...</th>\n",
       "      <td>...</td>\n",
       "      <td>...</td>\n",
       "      <td>...</td>\n",
       "      <td>...</td>\n",
       "      <td>...</td>\n",
       "      <td>...</td>\n",
       "      <td>...</td>\n",
       "      <td>...</td>\n",
       "      <td>...</td>\n",
       "      <td>...</td>\n",
       "      <td>...</td>\n",
       "      <td>...</td>\n",
       "    </tr>\n",
       "    <tr>\n",
       "      <th>2086</th>\n",
       "      <td>DTXSID9020376</td>\n",
       "      <td>DTXSID8024236</td>\n",
       "      <td>BrC1=CC(Br)=C(OC2=C(Br)C(Br)=CC(Br)=C2Br)C(Br)...</td>\n",
       "      <td>C12H2Br8O</td>\n",
       "      <td>793.357261</td>\n",
       "      <td>True</td>\n",
       "      <td>True</td>\n",
       "      <td>0</td>\n",
       "      <td>0</td>\n",
       "      <td>0</td>\n",
       "      <td>0</td>\n",
       "      <td>1</td>\n",
       "    </tr>\n",
       "    <tr>\n",
       "      <th>2087</th>\n",
       "      <td>DTXSID9020376</td>\n",
       "      <td>DTXSID8024236</td>\n",
       "      <td>BrC1=CC(Br)=C(Br)C(OC2=C(Br)C(Br)=CC(Br)=C2Br)...</td>\n",
       "      <td>C12H2Br8O</td>\n",
       "      <td>793.357261</td>\n",
       "      <td>True</td>\n",
       "      <td>True</td>\n",
       "      <td>0</td>\n",
       "      <td>0</td>\n",
       "      <td>0</td>\n",
       "      <td>0</td>\n",
       "      <td>1</td>\n",
       "    </tr>\n",
       "    <tr>\n",
       "      <th>2088</th>\n",
       "      <td>DTXSID9020376</td>\n",
       "      <td>DTXSID8024236</td>\n",
       "      <td>BrC1=CC(Br)=C(Br)C(OC2=C(Br)C(Br)=C(Br)C(Br)=C...</td>\n",
       "      <td>C12H2Br8O</td>\n",
       "      <td>793.357261</td>\n",
       "      <td>True</td>\n",
       "      <td>True</td>\n",
       "      <td>0</td>\n",
       "      <td>0</td>\n",
       "      <td>0</td>\n",
       "      <td>0</td>\n",
       "      <td>1</td>\n",
       "    </tr>\n",
       "    <tr>\n",
       "      <th>2623</th>\n",
       "      <td>DTXSID9023752</td>\n",
       "      <td>DTXSID70858570</td>\n",
       "      <td>CC(C1=CC2=CC=CC=C2S1)N(C(=O)N)OC3C(C(C(C(O3)C(...</td>\n",
       "      <td>C17H20N2O8S</td>\n",
       "      <td>412.094037</td>\n",
       "      <td>False</td>\n",
       "      <td>True</td>\n",
       "      <td>0</td>\n",
       "      <td>0</td>\n",
       "      <td>0</td>\n",
       "      <td>0</td>\n",
       "      <td>1</td>\n",
       "    </tr>\n",
       "    <tr>\n",
       "      <th>2624</th>\n",
       "      <td>DTXSID9023752</td>\n",
       "      <td>DTXSID3057692</td>\n",
       "      <td>CC(=O)C1=CC2=CC=CC=C2S1</td>\n",
       "      <td>C10H8OS</td>\n",
       "      <td>176.029586</td>\n",
       "      <td>False</td>\n",
       "      <td>False</td>\n",
       "      <td>0</td>\n",
       "      <td>0</td>\n",
       "      <td>0</td>\n",
       "      <td>0</td>\n",
       "      <td>1</td>\n",
       "    </tr>\n",
       "  </tbody>\n",
       "</table>\n",
       "<p>268 rows × 12 columns</p>\n",
       "</div>"
      ],
      "text/plain": [
       "      Parent_DTXSID Metabolite_DTXSID  \\\n",
       "0     DTXSID0044151     DTXSID6059362   \n",
       "1     DTXSID0044151     DTXSID7063687   \n",
       "6     DTXSID6025725     DTXSID4021137   \n",
       "18    DTXSID8031077    DTXSID30865801   \n",
       "20    DTXSID1025726    DTXSID70209063   \n",
       "...             ...               ...   \n",
       "2086  DTXSID9020376     DTXSID8024236   \n",
       "2087  DTXSID9020376     DTXSID8024236   \n",
       "2088  DTXSID9020376     DTXSID8024236   \n",
       "2623  DTXSID9023752    DTXSID70858570   \n",
       "2624  DTXSID9023752     DTXSID3057692   \n",
       "\n",
       "                                                 SMILES      Formula  \\\n",
       "0                                       Nc1cc(N)cc(N)c1       C6H9N3   \n",
       "1                            Nc1cc(N)cc([N+](=O)[O-])c1     C6H7N3O2   \n",
       "6                                          Nc1cccc(N)c1       C6H8N2   \n",
       "18          COc1cc(CCC(=O)CC(=O)CCc2ccc(O)c(OC)c2)ccc1O     C21H24O6   \n",
       "20                          NC1=C([N+](=O)[O-])C=CC=C1O     C6H6N2O3   \n",
       "...                                                 ...          ...   \n",
       "2086  BrC1=CC(Br)=C(OC2=C(Br)C(Br)=CC(Br)=C2Br)C(Br)...    C12H2Br8O   \n",
       "2087  BrC1=CC(Br)=C(Br)C(OC2=C(Br)C(Br)=CC(Br)=C2Br)...    C12H2Br8O   \n",
       "2088  BrC1=CC(Br)=C(Br)C(OC2=C(Br)C(Br)=C(Br)C(Br)=C...    C12H2Br8O   \n",
       "2623  CC(C1=CC2=CC=CC=C2S1)N(C(=O)N)OC3C(C(C(C(O3)C(...  C17H20N2O8S   \n",
       "2624                            CC(=O)C1=CC2=CC=CC=C2S1      C10H8OS   \n",
       "\n",
       "              MW  Markush  DDA_Included  BioTransformer  Meteor  ToolBox  \\\n",
       "0     123.079647    False          True               0       1        1   \n",
       "1     153.053826    False          True               0       1        1   \n",
       "6     108.068748    False          True               0       1        1   \n",
       "18    372.157288    False          True               0       0        1   \n",
       "20    154.037842    False          True               1       0        1   \n",
       "...          ...      ...           ...             ...     ...      ...   \n",
       "2086  793.357261     True          True               0       0        0   \n",
       "2087  793.357261     True          True               0       0        0   \n",
       "2088  793.357261     True          True               0       0        0   \n",
       "2623  412.094037    False          True               0       0        0   \n",
       "2624  176.029586    False         False               0       0        0   \n",
       "\n",
       "      TIMES  Reported  \n",
       "0         0         1  \n",
       "1         0         1  \n",
       "6         0         1  \n",
       "18        0         1  \n",
       "20        0         1  \n",
       "...     ...       ...  \n",
       "2086      0         1  \n",
       "2087      0         1  \n",
       "2088      0         1  \n",
       "2623      0         1  \n",
       "2624      0         1  \n",
       "\n",
       "[268 rows x 12 columns]"
      ]
     },
     "execution_count": 99,
     "metadata": {},
     "output_type": "execute_result"
    }
   ],
   "source": [
    "report_subset = master_paper[master_paper['Reported'] == 1]\n",
    "report_subset"
   ]
  },
  {
   "cell_type": "code",
   "execution_count": 102,
   "metadata": {},
   "outputs": [
    {
     "data": {
      "text/plain": [
       "<pandas.core.groupby.generic.DataFrameGroupBy object at 0x0000024989718A88>"
      ]
     },
     "execution_count": 102,
     "metadata": {},
     "output_type": "execute_result"
    }
   ],
   "source": [
    "report_subset.groupby(by = ['Parent_DTXSID', 'SMILES'])"
   ]
  },
  {
   "cell_type": "code",
   "execution_count": 227,
   "metadata": {},
   "outputs": [],
   "source": [
    "## Get unique parent-metabolite pairs for reported metabolites\n",
    "par_met_pair = pd.Series(zip(report_subset['Parent_DTXSID'], report_subset['Metabolite_DTXSID']))\n",
    "\n",
    "## Find which pairs are predicted by the different metabolite prediction software\n",
    "\n",
    "bt_venn_rp = set(par_met_pair[(report_subset['BioTransformer'] == 1).values])\n",
    "met_venn_rp = set(par_met_pair[(report_subset['Meteor'] == 1).values])\n",
    "tb_venn_rp = set(par_met_pair[(report_subset['ToolBox'] == 1).values])\n",
    "tm_venn_rp = set(par_met_pair[(report_subset['TIMES'] == 1).values])\n",
    "rep_venn = set(par_met_pair[(report_subset['Reported'] == 1).values])\n"
   ]
  },
  {
   "cell_type": "code",
   "execution_count": 237,
   "metadata": {},
   "outputs": [
    {
     "name": "stderr",
     "output_type": "stream",
     "text": [
      "C:\\Users\\MBOYCE\\Anaconda3\\envs\\my-RAX-env\\lib\\site-packages\\ipykernel_launcher.py:4: UserWarning: Matplotlib is currently using module://ipykernel.pylab.backend_inline, which is a non-GUI backend, so cannot show the figure.\n",
      "  after removing the cwd from sys.path.\n"
     ]
    },
    {
     "data": {
      "image/png": "[encoded data removed]",
      "text/plain": [
       "<Figure size 648x648 with 1 Axes>"
      ]
     },
     "metadata": {},
     "output_type": "display_data"
    }
   ],
   "source": [
    "labels = venn.get_labels([bt_venn_rp, met_venn_rp, tb_venn_rp, tm_venn_rp, rep_venn], fill=['number'])\n",
    "fig, ax = venn.venn5(labels, names=['BioTransformer', 'Meteor', 'Toolbox', 'TIMES', 'Reported'])\n",
    "fig.savefig(r'C:\\Users\\MBOYCE\\OneDrive - Environmental Protection Agency (EPA)\\Profile\\Documents\\reported_ven.tiff', dpi=300)\n",
    "fig.show()"
   ]
  },
  {
   "cell_type": "code",
   "execution_count": null,
   "metadata": {},
   "outputs": [],
   "source": []
  }
 ],
 "metadata": {
  "kernelspec": {
   "display_name": "Python 3",
   "language": "python",
   "name": "python3"
  },
  "language_info": {
   "codemirror_mode": {
    "name": "ipython",
    "version": 3
   },
   "file_extension": ".py",
   "mimetype": "text/x-python",
   "name": "python",
   "nbconvert_exporter": "python",
   "pygments_lexer": "ipython3",
   "version": "3.7.6"
  }
 },
 "nbformat": 4,
 "nbformat_minor": 4
}
